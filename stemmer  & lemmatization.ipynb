{
 "cells": [
  {
   "cell_type": "code",
   "execution_count": 1,
   "id": "c793d09a",
   "metadata": {},
   "outputs": [
    {
     "data": {
      "text/plain": [
       "'write'"
      ]
     },
     "execution_count": 1,
     "metadata": {},
     "output_type": "execute_result"
    }
   ],
   "source": [
    "import nltk\n",
    "from nltk.stem import PorterStemmer\n",
    "word_stemmer = PorterStemmer()\n",
    "word_stemmer.stem(\"writing\")"
   ]
  },
  {
   "cell_type": "code",
   "execution_count": 2,
   "id": "a75e0969",
   "metadata": {},
   "outputs": [
    {
     "data": {
      "text/plain": [
       "['earth-siz', 'exoplanet', 'discovered,potenti', 'volcan']"
      ]
     },
     "execution_count": 2,
     "metadata": {},
     "output_type": "execute_result"
    }
   ],
   "source": [
    "import nltk\n",
    "from nltk.stem import PorterStemmer\n",
    "word_stemmer = PorterStemmer()\n",
    "def stem_words(text):\n",
    "    word_tokens = text.split()\n",
    "    stems = [word_stemmer.stem(word) for word in word_tokens]\n",
    "    return stems\n",
    "text = 'Earth-size exoplanet discovered,potentially volcanically'\n",
    "stem_words(text)"
   ]
  },
  {
   "cell_type": "code",
   "execution_count": 3,
   "id": "068c26d0",
   "metadata": {},
   "outputs": [
    {
     "data": {
      "text/plain": [
       "'sleep'"
      ]
     },
     "execution_count": 3,
     "metadata": {},
     "output_type": "execute_result"
    }
   ],
   "source": [
    "import nltk\n",
    "from nltk.stem import PorterStemmer\n",
    "word_stemmer = PorterStemmer()\n",
    "word_stemmer.stem('sleeping')"
   ]
  },
  {
   "cell_type": "code",
   "execution_count": 4,
   "id": "28aed8c2",
   "metadata": {},
   "outputs": [
    {
     "data": {
      "text/plain": [
       "['download',\n",
       " 'the',\n",
       " 'latest',\n",
       " 'version',\n",
       " 'of',\n",
       " 'anytxt',\n",
       " 'for',\n",
       " 'window',\n",
       " 'or',\n",
       " 'linux']"
      ]
     },
     "execution_count": 4,
     "metadata": {},
     "output_type": "execute_result"
    }
   ],
   "source": [
    "import nltk\n",
    "from nltk.stem import PorterStemmer\n",
    "word_stemmer = PorterStemmer()\n",
    "def stem_words(text):\n",
    "    word_tokens = text.split()\n",
    "    stems = [word_stemmer.stem(word) for word in word_tokens]\n",
    "    return stems\n",
    "text = \"Download the latest version of Anytxt for Windows or Linux\"\n",
    "stem_words(text)"
   ]
  },
  {
   "cell_type": "code",
   "execution_count": 5,
   "id": "5d024e1e",
   "metadata": {},
   "outputs": [
    {
     "name": "stderr",
     "output_type": "stream",
     "text": [
      "[nltk_data] Downloading package wordnet to\n",
      "[nltk_data]     C:\\Users\\himanshu\\AppData\\Roaming\\nltk_data...\n",
      "[nltk_data]   Package wordnet is already up-to-date!\n"
     ]
    },
    {
     "name": "stdout",
     "output_type": "stream",
     "text": [
      "rocks: rock\n",
      "corpora: corpus\n",
      "batter: better\n"
     ]
    }
   ],
   "source": [
    "# Lemmatization\n",
    "import nltk\n",
    "nltk.download('wordnet')\n",
    "from nltk.stem import WordNetLemmatizer\n",
    "lemmatizer = WordNetLemmatizer()\n",
    "print(\"rocks:\",lemmatizer.lemmatize('rocks'))\n",
    "print('corpora:',lemmatizer.lemmatize('corpora'))\n",
    "print('batter:',lemmatizer.lemmatize('better'))"
   ]
  },
  {
   "cell_type": "code",
   "execution_count": null,
   "id": "49232d7e",
   "metadata": {},
   "outputs": [],
   "source": []
  }
 ],
 "metadata": {
  "kernelspec": {
   "display_name": "Python 3 (ipykernel)",
   "language": "python",
   "name": "python3"
  },
  "language_info": {
   "codemirror_mode": {
    "name": "ipython",
    "version": 3
   },
   "file_extension": ".py",
   "mimetype": "text/x-python",
   "name": "python",
   "nbconvert_exporter": "python",
   "pygments_lexer": "ipython3",
   "version": "3.11.7"
  }
 },
 "nbformat": 4,
 "nbformat_minor": 5
}
