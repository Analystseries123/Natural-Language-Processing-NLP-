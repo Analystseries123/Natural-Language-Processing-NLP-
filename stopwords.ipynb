{
 "cells": [
  {
   "cell_type": "code",
   "execution_count": 1,
   "id": "3edcb5d8",
   "metadata": {},
   "outputs": [
    {
     "name": "stderr",
     "output_type": "stream",
     "text": [
      "[nltk_data] Downloading package stopwords to\n",
      "[nltk_data]     C:\\Users\\himanshu\\AppData\\Roaming\\nltk_data...\n",
      "[nltk_data]   Package stopwords is already up-to-date!\n"
     ]
    }
   ],
   "source": [
    "import nltk\n",
    "nltk.download('stopwords')\n",
    "from nltk.corpus import stopwords"
   ]
  },
  {
   "cell_type": "code",
   "execution_count": 2,
   "id": "13bb1519",
   "metadata": {},
   "outputs": [
    {
     "name": "stdout",
     "output_type": "stream",
     "text": [
      "['i', 'me', 'my', 'myself', 'we', 'our', 'ours', 'ourselves', 'you', \"you're\", \"you've\", \"you'll\", \"you'd\", 'your', 'yours', 'yourself', 'yourselves', 'he', 'him', 'his', 'himself', 'she', \"she's\", 'her', 'hers', 'herself', 'it', \"it's\", 'its', 'itself', 'they', 'them', 'their', 'theirs', 'themselves', 'what', 'which', 'who', 'whom', 'this', 'that', \"that'll\", 'these', 'those', 'am', 'is', 'are', 'was', 'were', 'be', 'been', 'being', 'have', 'has', 'had', 'having', 'do', 'does', 'did', 'doing', 'a', 'an', 'the', 'and', 'but', 'if', 'or', 'because', 'as', 'until', 'while', 'of', 'at', 'by', 'for', 'with', 'about', 'against', 'between', 'into', 'through', 'during', 'before', 'after', 'above', 'below', 'to', 'from', 'up', 'down', 'in', 'out', 'on', 'off', 'over', 'under', 'again', 'further', 'then', 'once', 'here', 'there', 'when', 'where', 'why', 'how', 'all', 'any', 'both', 'each', 'few', 'more', 'most', 'other', 'some', 'such', 'no', 'nor', 'not', 'only', 'own', 'same', 'so', 'than', 'too', 'very', 's', 't', 'can', 'will', 'just', 'don', \"don't\", 'should', \"should've\", 'now', 'd', 'll', 'm', 'o', 're', 've', 'y', 'ain', 'aren', \"aren't\", 'couldn', \"couldn't\", 'didn', \"didn't\", 'doesn', \"doesn't\", 'hadn', \"hadn't\", 'hasn', \"hasn't\", 'haven', \"haven't\", 'isn', \"isn't\", 'ma', 'mightn', \"mightn't\", 'mustn', \"mustn't\", 'needn', \"needn't\", 'shan', \"shan't\", 'shouldn', \"shouldn't\", 'wasn', \"wasn't\", 'weren', \"weren't\", 'won', \"won't\", 'wouldn', \"wouldn't\"]\n"
     ]
    }
   ],
   "source": [
    "sw_nltk = stopwords.words(\"english\")\n",
    "print(sw_nltk)"
   ]
  },
  {
   "cell_type": "code",
   "execution_count": 3,
   "id": "6f7fd1ac",
   "metadata": {},
   "outputs": [],
   "source": [
    "text2='''SRK is passionate about cinema and wants to take Indian Cinema ahead but looks like he is saddled with several people who are less passionate. How can one explain this slow motion tripe of a movie. Why so much slow motion? Because the cost is low and it serves as a tangent for low cost stunts and VFX. The only good and thrilling shots are of a Metro careening at high speed in Mumbai and mind you that is not in slow motion. There is no action set piece that is a wow, this is great.\n",
    "Slow motion action is cheating the audience.\n",
    "I am sure SRK wants to push his movies to Mission Impossible level but alas at the moment cannot do so.\n",
    "The next is the thin plot that has several plot holes. What about the violence?\n",
    "This movie is so violent that it would have been an automatic R rating in US if it had been a Hollywood movie.\n",
    "With a star cast of more women than men, this would be a first but when you come to individual roles, none of the women have a meaty one including Deepika Padukone. Sincerely wish, Deepika comes back to Piku days.\n",
    "What is she doing in this nonsense? Finally the villain played by Vijay is a caricature. He does not look at all menacing, in fact his right hand, Murad is more threatening.\n",
    "It is hard to say which one was more mediocre, Pathaan or Jawan. SRK needs a Rajamouli to up Indian Cinema, wish that happens soon. 2 stars for SRK's energy and passion!'''"
   ]
  },
  {
   "cell_type": "code",
   "execution_count": 4,
   "id": "355221f6",
   "metadata": {},
   "outputs": [],
   "source": [
    "words = [word for word in text2.split() if word.lower() not in sw_nltk]"
   ]
  },
  {
   "cell_type": "code",
   "execution_count": 5,
   "id": "c2fbc6c1",
   "metadata": {},
   "outputs": [
    {
     "name": "stdout",
     "output_type": "stream",
     "text": [
      "SRK passionate cinema wants take Indian Cinema ahead looks like saddled several people less passionate. one explain slow motion tripe movie. much slow motion? cost low serves tangent low cost stunts VFX. good thrilling shots Metro careening high speed Mumbai mind slow motion. action set piece wow, great. Slow motion action cheating audience. sure SRK wants push movies Mission Impossible level alas moment cannot so. next thin plot several plot holes. violence? movie violent would automatic R rating US Hollywood movie. star cast women men, would first come individual roles, none women meaty one including Deepika Padukone. Sincerely wish, Deepika comes back Piku days. nonsense? Finally villain played Vijay caricature. look menacing, fact right hand, Murad threatening. hard say one mediocre, Pathaan Jawan. SRK needs Rajamouli Indian Cinema, wish happens soon. 2 stars SRK's energy passion!\n"
     ]
    }
   ],
   "source": [
    "new_text = ' '.join(words)\n",
    "print(new_text)"
   ]
  },
  {
   "cell_type": "code",
   "execution_count": 6,
   "id": "570d1853",
   "metadata": {},
   "outputs": [
    {
     "name": "stdout",
     "output_type": "stream",
     "text": [
      "old length 1383\n"
     ]
    }
   ],
   "source": [
    "print(\"old length\",len(text2))"
   ]
  },
  {
   "cell_type": "code",
   "execution_count": 7,
   "id": "344106be",
   "metadata": {},
   "outputs": [
    {
     "name": "stdout",
     "output_type": "stream",
     "text": [
      "New Length 8\n"
     ]
    }
   ],
   "source": [
    "print(\"New Length\",len('new_text' ))"
   ]
  },
  {
   "cell_type": "code",
   "execution_count": null,
   "id": "51aa2826",
   "metadata": {},
   "outputs": [],
   "source": []
  }
 ],
 "metadata": {
  "kernelspec": {
   "display_name": "Python 3 (ipykernel)",
   "language": "python",
   "name": "python3"
  },
  "language_info": {
   "codemirror_mode": {
    "name": "ipython",
    "version": 3
   },
   "file_extension": ".py",
   "mimetype": "text/x-python",
   "name": "python",
   "nbconvert_exporter": "python",
   "pygments_lexer": "ipython3",
   "version": "3.11.7"
  }
 },
 "nbformat": 4,
 "nbformat_minor": 5
}
